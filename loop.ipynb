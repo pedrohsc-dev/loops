{
 "cells": [
  {
   "cell_type": "markdown",
   "metadata": {},
   "source": [
    "# Retomar \n",
    "\n",
    "## Operadores de comparação\n",
    "\n",
    "* \">\" : maior que\n",
    "* \"<\" : menor que \n",
    "* \">=\" : maior ou igula a \n",
    "* \"<=\" : menor ou igual a\n",
    "* \"==\" : igula a\n",
    "* \"!=\" : diferente de\n",
    "\n",
    "## Operador Lógicos\n",
    "\n",
    "* and\n",
    "* or\n",
    "* not\n",
    "\n",
    "## Operadores de associação\n",
    "\n",
    "* in\n",
    "* not in\n",
    "\n",
    "## Operadores de identidades\n",
    "\n",
    "* is \n",
    "* is not\n",
    "\n",
    "## Introdução aos Loops\n",
    "\n",
    "Loops são estruturas de controle que permitem que você execute um bloco de código repetidamente. "
   ]
  },
  {
   "cell_type": "code",
   "execution_count": 11,
   "metadata": {},
   "outputs": [
    {
     "name": "stdout",
     "output_type": "stream",
     "text": [
      "Desta forma eu terei que colocar um print para cada número de 0 até 5\n",
      "0\n",
      "1\n",
      "2\n",
      "3\n",
      "4\n",
      "5\n",
      "------------------------------\n"
     ]
    }
   ],
   "source": [
    "# Exemplo de onde da para usar loops.\n",
    "\n",
    "# Print um número de 0 até 5 (método sem usar loops).\n",
    "print(\"Desta forma eu terei que colocar um print para cada número de 0 até 5\")\n",
    "print(0)\n",
    "print(1)\n",
    "print(2)\n",
    "print(3)\n",
    "print(4)\n",
    "print(5)\n",
    "print(\"-\" *30)\n",
    "\n",
    "# Print um número de 0 até 5 (método usando loops).\n",
    "\n"
   ]
  },
  {
   "cell_type": "markdown",
   "metadata": {},
   "source": [
    "# Função While\n",
    "\n",
    "A função while criara um loop que se repetirar até que a condição atribuida a ela seja verdadeira ou ate que você atribua um ponto de parada com o comando break."
   ]
  },
  {
   "cell_type": "code",
   "execution_count": 12,
   "metadata": {},
   "outputs": [
    {
     "name": "stdout",
     "output_type": "stream",
     "text": [
      "0\n",
      "1\n",
      "2\n",
      "3\n",
      "4\n",
      "5\n"
     ]
    }
   ],
   "source": [
    "# Print um número de 0 até 5 (método usando loops).\n",
    "\n",
    "# Netse caso atribuimos um loop a função while, que define que quando a variável for menor que 6 ela ira\n",
    "# o valor da variável somando mais 1 ao seu valor, até que nesse caso se iguale a 6.\n",
    "\n",
    "contador = 0\n",
    "while contador < 6:\n",
    "    print(contador)\n",
    "    contador += 1"
   ]
  },
  {
   "cell_type": "code",
   "execution_count": 13,
   "metadata": {},
   "outputs": [
    {
     "name": "stdout",
     "output_type": "stream",
     "text": [
      "Que ótimo!\n"
     ]
    }
   ],
   "source": [
    "# pegar um input do usuário (utilizando while e break)\n",
    "\n",
    "while True:\n",
    "    resposta = input(\"Você gosta de programar?\").lower()\n",
    "    if resposta in [\"sim\", \"s\", \"claro\"]:\n",
    "        print(\"Que ótimo!\")\n",
    "        break\n",
    "    elif resposta in [\"não\", \"n\", \"nao\"]:\n",
    "        print(\"Que pena!\")\n",
    "        break\n",
    "    else:\n",
    "        print(\"Não consigo te entender!\")\n",
    "        break"
   ]
  },
  {
   "cell_type": "markdown",
   "metadata": {},
   "source": [
    "## Operadores de atribuição\n",
    "\n",
    " Operadores | Equivalente \n",
    " --- | ---\n",
    "+= | x = x + y\n",
    "--- | ---\n",
    " -= | x = x - y\n",
    "--- | ---\n",
    " *= | x = x * y\n",
    "--- | ---\n",
    "/= | x = x / Y\n",
    "--- | ---\n",
    "%= | x = x % y"
   ]
  },
  {
   "cell_type": "markdown",
   "metadata": {},
   "source": [
    "## Função for\n",
    "\n",
    "A função for funciona assim: para(__*for*__) cada elemento em(__*in*__) uma variável print um elemento.\n",
    "--- \n",
    "                                   __*for*__  elemento   __*in*__ variável:\n",
    "                                        __*print(elemento)*__"
   ]
  },
  {
   "cell_type": "code",
   "execution_count": 15,
   "metadata": {},
   "outputs": [
    {
     "name": "stdout",
     "output_type": "stream",
     "text": [
      "0\n",
      "1\n",
      "2\n",
      "3\n",
      "4\n",
      "5\n"
     ]
    }
   ],
   "source": [
    "# Print os Números de 0 até 5 utilizando a função for\n",
    "num = [0, 1, 2, 3, 4, 5]\n",
    "for numero in num:\n",
    "    print(numero)"
   ]
  },
  {
   "cell_type": "code",
   "execution_count": 18,
   "metadata": {},
   "outputs": [
    {
     "name": "stdout",
     "output_type": "stream",
     "text": [
      "0\n",
      "1\n",
      "2\n",
      "3\n",
      "4\n",
      "5\n"
     ]
    }
   ],
   "source": [
    "# Agora utilizando range\n",
    "for numero1 in range(6):\n",
    "    print(numero1)"
   ]
  },
  {
   "cell_type": "code",
   "execution_count": 22,
   "metadata": {},
   "outputs": [
    {
     "name": "stdout",
     "output_type": "stream",
     "text": [
      "Meu nome é Alice e eu tenho 25 anos.\n",
      "Meu nome é Bob e eu tenho 30 anos.\n",
      "Meu nome é Charlie e eu tenho 35 anos.\n"
     ]
    }
   ],
   "source": [
    "# utilizando  zip\n",
    "nomes = [\"Alice\", \"Bob\", \"Charlie\"]\n",
    "idades = [25, 30, 35]\n",
    "for nome, idade in zip(nomes, idades):\n",
    "    print(\"Meu nome é {} e eu tenho {} anos.\".format(nome, idade)) "
   ]
  },
  {
   "cell_type": "code",
   "execution_count": 25,
   "metadata": {},
   "outputs": [
    {
     "name": "stdout",
     "output_type": "stream",
     "text": [
      "Meu nome é Alice e eu tenho 25 anos de idade:\n",
      "Meu nome é Bob e eu tenho 30 anos de idade:\n",
      "Meu nome é Charlie e eu tenho 35 anos de idade:\n"
     ]
    }
   ],
   "source": [
    "# Iterando sobre um dicionário\n",
    "pessoas = dict(zip(nomes, idades))\n",
    "for chave in pessoas:\n",
    "    print(\"Meu nome é {} e eu tenho {} anos de idade:\".format(chave, pessoas[chave]))"
   ]
  },
  {
   "cell_type": "code",
   "execution_count": 28,
   "metadata": {},
   "outputs": [
    {
     "name": "stdout",
     "output_type": "stream",
     "text": [
      "1 maçã\n",
      "2 banana\n",
      "3 laranja\n"
     ]
    }
   ],
   "source": [
    "# Utilizando o enumerate\n",
    "frutas = [\"maçã\", \"banana\", \"laranja\"]\n",
    "for indice, fruta in enumerate(frutas, start=1):\n",
    "    print(indice, fruta)"
   ]
  },
  {
   "cell_type": "code",
   "execution_count": 30,
   "metadata": {},
   "outputs": [
    {
     "name": "stdout",
     "output_type": "stream",
     "text": [
      "0\n",
      "1\n",
      "3\n",
      "4\n",
      "5\n"
     ]
    }
   ],
   "source": [
    "# Set\n",
    "\n",
    "nums = [0, 1, 1, 3, 4, 4, 5]\n",
    "for num in set(nums):\n",
    "    print(num)"
   ]
  },
  {
   "cell_type": "markdown",
   "metadata": {},
   "source": [
    "# Mario\n",
    "\n",
    "## Desafio: FFazer uma pirâmide do Mario com \"#\" e com o input do usuário.\n",
    "\n",
    "exemplo de output:\n",
    "\n",
    "\"#\"\n",
    "\n",
    "\"##\"\n",
    "\n",
    "\"###\""
   ]
  },
  {
   "cell_type": "code",
   "execution_count": 38,
   "metadata": {},
   "outputs": [
    {
     "name": "stdout",
     "output_type": "stream",
     "text": [
      "    #\n",
      "   ##\n",
      "  ###\n",
      " ####\n",
      "#####\n"
     ]
    }
   ],
   "source": [
    "x =  int(input(\"Tamanho da pirâmide\"))\n",
    "for i in range(1, x + 1):\n",
    "    x -= 1\n",
    "    print(\" \" * x, end = \"\")\n",
    "    print(\"#\" * i)\n"
   ]
  },
  {
   "cell_type": "code",
   "execution_count": null,
   "metadata": {},
   "outputs": [],
   "source": []
  }
 ],
 "metadata": {
  "kernelspec": {
   "display_name": "Python 3",
   "language": "python",
   "name": "python3"
  },
  "language_info": {
   "codemirror_mode": {
    "name": "ipython",
    "version": 3
   },
   "file_extension": ".py",
   "mimetype": "text/x-python",
   "name": "python",
   "nbconvert_exporter": "python",
   "pygments_lexer": "ipython3",
   "version": "3.11.6"
  }
 },
 "nbformat": 4,
 "nbformat_minor": 2
}
