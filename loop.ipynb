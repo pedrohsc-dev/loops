{
 "cells": [
  {
   "cell_type": "markdown",
   "metadata": {},
   "source": [
    "# Retomar \n",
    "\n",
    "## Operadores de comparação\n",
    "\n",
    "* \">\" : maior que\n",
    "* \"<\" : menor que \n",
    "* \">=\" : maior ou igula a \n",
    "* \"<=\" : menor ou igual a\n",
    "* \"==\" : igula a\n",
    "* \"!=\" : diferente de\n",
    "\n",
    "## Operador Lógicos\n",
    "\n",
    "* and\n",
    "* or\n",
    "* not\n",
    "\n",
    "## Operadores de associação\n",
    "\n",
    "* in\n",
    "* not in\n",
    "\n",
    "## Operadores de identidades\n",
    "\n",
    "* is \n",
    "* is not\n",
    "\n",
    "## Introdução aos Loops\n",
    "\n",
    "Loops são estruturas de controle que permitem que você execute um bloco de código repetidamente. "
   ]
  },
  {
   "cell_type": "code",
   "execution_count": 2,
   "metadata": {},
   "outputs": [
    {
     "name": "stdout",
     "output_type": "stream",
     "text": [
      "Desta forma eu terei que colocar um print para cada número de 0 até 5\n",
      "0\n",
      "1\n",
      "2\n",
      "3\n",
      "4\n",
      "5\n",
      "------------------------------\n"
     ]
    }
   ],
   "source": [
    "# Exemplo de onde da para usar loops.\n",
    "\n",
    "# Print um número de 0 até 5 (método sem usar loops).\n",
    "print(\"Desta forma eu terei que colocar um print para cada número de 0 até 5\")\n",
    "print(0)\n",
    "print(1)\n",
    "print(2)\n",
    "print(3)\n",
    "print(4)\n",
    "print(5)\n",
    "print(\"-\" *30)\n",
    "\n",
    "# Print um número de 0 até 5 (método usando loops).\n",
    "\n"
   ]
  },
  {
   "cell_type": "markdown",
   "metadata": {},
   "source": [
    "# Função While\n",
    "\n",
    "A função while criara um loop que se repetirar até que a condição atribuida a ela seja verdadeira ou ate que você atribua um ponto de parada com o comando break."
   ]
  },
  {
   "cell_type": "code",
   "execution_count": 4,
   "metadata": {},
   "outputs": [
    {
     "name": "stdout",
     "output_type": "stream",
     "text": [
      "0\n",
      "1\n",
      "2\n",
      "3\n",
      "4\n",
      "5\n"
     ]
    }
   ],
   "source": [
    "# Print um número de 0 até 5 (método usando loops).\n",
    "\n",
    "# Netse caso atribuimos um loop a função while, que define que quando a variável for menor que 6 ela ira\n",
    "# o valor da variável somando mais 1 ao seu valor, até que nesse caso se iguale a 6.\n",
    "\n",
    "contador = 0\n",
    "while contador < 6:\n",
    "    print(contador)\n",
    "    contador += 1"
   ]
  },
  {
   "cell_type": "code",
   "execution_count": 10,
   "metadata": {},
   "outputs": [
    {
     "name": "stdout",
     "output_type": "stream",
     "text": [
      "Que ótimo!\n"
     ]
    }
   ],
   "source": [
    "# pegar um input do usuário (utilizando while e break)\n",
    "\n",
    "while True:\n",
    "    resposta = input(\"Você gosta de programar?\").lower()\n",
    "    if resposta in [\"sim\", \"s\", \"claro\"]:\n",
    "        print(\"Que ótimo!\")\n",
    "        break\n",
    "    elif resposta in [\"não\", \"n\", \"nao\"]:\n",
    "        print(\"Que pena!\")\n",
    "        break\n",
    "    else:\n",
    "        print(\"Não consigo te entender!\")\n",
    "        break"
   ]
  },
  {
   "cell_type": "markdown",
   "metadata": {},
   "source": [
    "## Operadores de atribuição\n",
    "\n",
    " Operadores | Equivalente \n",
    "+=          | x = x =y\n",
    " "
   ]
  }
 ],
 "metadata": {
  "kernelspec": {
   "display_name": "Python 3",
   "language": "python",
   "name": "python3"
  },
  "language_info": {
   "codemirror_mode": {
    "name": "ipython",
    "version": 3
   },
   "file_extension": ".py",
   "mimetype": "text/x-python",
   "name": "python",
   "nbconvert_exporter": "python",
   "pygments_lexer": "ipython3",
   "version": "3.11.6"
  }
 },
 "nbformat": 4,
 "nbformat_minor": 2
}
